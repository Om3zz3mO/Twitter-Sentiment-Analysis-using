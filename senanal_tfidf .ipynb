{
  "nbformat": 4,
  "nbformat_minor": 0,
  "metadata": {
    "colab": {
      "provenance": []
    },
    "kernelspec": {
      "name": "python3",
      "display_name": "Python 3"
    },
    "language_info": {
      "name": "python"
    }
  },
  "cells": [
    {
      "cell_type": "code",
      "execution_count": null,
      "metadata": {
        "id": "PpzlEkAVbWcG"
      },
      "outputs": [],
      "source": [
        "import numpy as np # linear algebra\n",
        "import pandas as pd # data processing, CSV file I/O (e.g. pd.read_csv)\n",
        "import matplotlib.pyplot as plt\n",
        "\n",
        "from tensorflow.keras.preprocessing.text import Tokenizer\n",
        "from tensorflow.keras.preprocessing.sequence import pad_sequences\n",
        "import tensorflow as tf\n",
        "import random"
      ]
    },
    {
      "cell_type": "code",
      "source": [
        "from google.colab import files\n",
        "uploaded=files.upload()"
      ],
      "metadata": {
        "id": "5cZmIVUYfWFd",
        "colab": {
          "base_uri": "https://localhost:8080/",
          "height": 74
        },
        "outputId": "2066cde0-806a-4abe-bc06-c1cec8d2ef8a"
      },
      "execution_count": null,
      "outputs": [
        {
          "output_type": "display_data",
          "data": {
            "text/plain": [
              "<IPython.core.display.HTML object>"
            ],
            "text/html": [
              "\n",
              "     <input type=\"file\" id=\"files-10c88cde-d7eb-435b-81f9-3b93b5e21678\" name=\"files[]\" multiple disabled\n",
              "        style=\"border:none\" />\n",
              "     <output id=\"result-10c88cde-d7eb-435b-81f9-3b93b5e21678\">\n",
              "      Upload widget is only available when the cell has been executed in the\n",
              "      current browser session. Please rerun this cell to enable.\n",
              "      </output>\n",
              "      <script>// Copyright 2017 Google LLC\n",
              "//\n",
              "// Licensed under the Apache License, Version 2.0 (the \"License\");\n",
              "// you may not use this file except in compliance with the License.\n",
              "// You may obtain a copy of the License at\n",
              "//\n",
              "//      http://www.apache.org/licenses/LICENSE-2.0\n",
              "//\n",
              "// Unless required by applicable law or agreed to in writing, software\n",
              "// distributed under the License is distributed on an \"AS IS\" BASIS,\n",
              "// WITHOUT WARRANTIES OR CONDITIONS OF ANY KIND, either express or implied.\n",
              "// See the License for the specific language governing permissions and\n",
              "// limitations under the License.\n",
              "\n",
              "/**\n",
              " * @fileoverview Helpers for google.colab Python module.\n",
              " */\n",
              "(function(scope) {\n",
              "function span(text, styleAttributes = {}) {\n",
              "  const element = document.createElement('span');\n",
              "  element.textContent = text;\n",
              "  for (const key of Object.keys(styleAttributes)) {\n",
              "    element.style[key] = styleAttributes[key];\n",
              "  }\n",
              "  return element;\n",
              "}\n",
              "\n",
              "// Max number of bytes which will be uploaded at a time.\n",
              "const MAX_PAYLOAD_SIZE = 100 * 1024;\n",
              "\n",
              "function _uploadFiles(inputId, outputId) {\n",
              "  const steps = uploadFilesStep(inputId, outputId);\n",
              "  const outputElement = document.getElementById(outputId);\n",
              "  // Cache steps on the outputElement to make it available for the next call\n",
              "  // to uploadFilesContinue from Python.\n",
              "  outputElement.steps = steps;\n",
              "\n",
              "  return _uploadFilesContinue(outputId);\n",
              "}\n",
              "\n",
              "// This is roughly an async generator (not supported in the browser yet),\n",
              "// where there are multiple asynchronous steps and the Python side is going\n",
              "// to poll for completion of each step.\n",
              "// This uses a Promise to block the python side on completion of each step,\n",
              "// then passes the result of the previous step as the input to the next step.\n",
              "function _uploadFilesContinue(outputId) {\n",
              "  const outputElement = document.getElementById(outputId);\n",
              "  const steps = outputElement.steps;\n",
              "\n",
              "  const next = steps.next(outputElement.lastPromiseValue);\n",
              "  return Promise.resolve(next.value.promise).then((value) => {\n",
              "    // Cache the last promise value to make it available to the next\n",
              "    // step of the generator.\n",
              "    outputElement.lastPromiseValue = value;\n",
              "    return next.value.response;\n",
              "  });\n",
              "}\n",
              "\n",
              "/**\n",
              " * Generator function which is called between each async step of the upload\n",
              " * process.\n",
              " * @param {string} inputId Element ID of the input file picker element.\n",
              " * @param {string} outputId Element ID of the output display.\n",
              " * @return {!Iterable<!Object>} Iterable of next steps.\n",
              " */\n",
              "function* uploadFilesStep(inputId, outputId) {\n",
              "  const inputElement = document.getElementById(inputId);\n",
              "  inputElement.disabled = false;\n",
              "\n",
              "  const outputElement = document.getElementById(outputId);\n",
              "  outputElement.innerHTML = '';\n",
              "\n",
              "  const pickedPromise = new Promise((resolve) => {\n",
              "    inputElement.addEventListener('change', (e) => {\n",
              "      resolve(e.target.files);\n",
              "    });\n",
              "  });\n",
              "\n",
              "  const cancel = document.createElement('button');\n",
              "  inputElement.parentElement.appendChild(cancel);\n",
              "  cancel.textContent = 'Cancel upload';\n",
              "  const cancelPromise = new Promise((resolve) => {\n",
              "    cancel.onclick = () => {\n",
              "      resolve(null);\n",
              "    };\n",
              "  });\n",
              "\n",
              "  // Wait for the user to pick the files.\n",
              "  const files = yield {\n",
              "    promise: Promise.race([pickedPromise, cancelPromise]),\n",
              "    response: {\n",
              "      action: 'starting',\n",
              "    }\n",
              "  };\n",
              "\n",
              "  cancel.remove();\n",
              "\n",
              "  // Disable the input element since further picks are not allowed.\n",
              "  inputElement.disabled = true;\n",
              "\n",
              "  if (!files) {\n",
              "    return {\n",
              "      response: {\n",
              "        action: 'complete',\n",
              "      }\n",
              "    };\n",
              "  }\n",
              "\n",
              "  for (const file of files) {\n",
              "    const li = document.createElement('li');\n",
              "    li.append(span(file.name, {fontWeight: 'bold'}));\n",
              "    li.append(span(\n",
              "        `(${file.type || 'n/a'}) - ${file.size} bytes, ` +\n",
              "        `last modified: ${\n",
              "            file.lastModifiedDate ? file.lastModifiedDate.toLocaleDateString() :\n",
              "                                    'n/a'} - `));\n",
              "    const percent = span('0% done');\n",
              "    li.appendChild(percent);\n",
              "\n",
              "    outputElement.appendChild(li);\n",
              "\n",
              "    const fileDataPromise = new Promise((resolve) => {\n",
              "      const reader = new FileReader();\n",
              "      reader.onload = (e) => {\n",
              "        resolve(e.target.result);\n",
              "      };\n",
              "      reader.readAsArrayBuffer(file);\n",
              "    });\n",
              "    // Wait for the data to be ready.\n",
              "    let fileData = yield {\n",
              "      promise: fileDataPromise,\n",
              "      response: {\n",
              "        action: 'continue',\n",
              "      }\n",
              "    };\n",
              "\n",
              "    // Use a chunked sending to avoid message size limits. See b/62115660.\n",
              "    let position = 0;\n",
              "    do {\n",
              "      const length = Math.min(fileData.byteLength - position, MAX_PAYLOAD_SIZE);\n",
              "      const chunk = new Uint8Array(fileData, position, length);\n",
              "      position += length;\n",
              "\n",
              "      const base64 = btoa(String.fromCharCode.apply(null, chunk));\n",
              "      yield {\n",
              "        response: {\n",
              "          action: 'append',\n",
              "          file: file.name,\n",
              "          data: base64,\n",
              "        },\n",
              "      };\n",
              "\n",
              "      let percentDone = fileData.byteLength === 0 ?\n",
              "          100 :\n",
              "          Math.round((position / fileData.byteLength) * 100);\n",
              "      percent.textContent = `${percentDone}% done`;\n",
              "\n",
              "    } while (position < fileData.byteLength);\n",
              "  }\n",
              "\n",
              "  // All done.\n",
              "  yield {\n",
              "    response: {\n",
              "      action: 'complete',\n",
              "    }\n",
              "  };\n",
              "}\n",
              "\n",
              "scope.google = scope.google || {};\n",
              "scope.google.colab = scope.google.colab || {};\n",
              "scope.google.colab._files = {\n",
              "  _uploadFiles,\n",
              "  _uploadFilesContinue,\n",
              "};\n",
              "})(self);\n",
              "</script> "
            ]
          },
          "metadata": {}
        },
        {
          "output_type": "stream",
          "name": "stdout",
          "text": [
            "Saving tweets2.csv to tweets2.csv\n"
          ]
        }
      ]
    },
    {
      "cell_type": "code",
      "source": [
        "data=pd.read_csv(\"tweets2.csv\")"
      ],
      "metadata": {
        "id": "DK5XF2JnlCLl"
      },
      "execution_count": null,
      "outputs": []
    },
    {
      "cell_type": "code",
      "source": [
        "data"
      ],
      "metadata": {
        "colab": {
          "base_uri": "https://localhost:8080/",
          "height": 424
        },
        "id": "Qw1a1WOAdBwx",
        "outputId": "46bed40e-7ea9-4560-c8dc-d09a86e43070"
      },
      "execution_count": null,
      "outputs": [
        {
          "output_type": "execute_result",
          "data": {
            "text/plain": [
              "      Unnamed: 0  Unnamed: 0.1                       Date             User  \\\n",
              "0              0             0  2022-10-21 13:04:22+00:00    RepublicanRjl   \n",
              "1              1             1  2022-10-21 13:04:18+00:00       DS56484494   \n",
              "2              2             2  2022-10-21 13:04:16+00:00         rya_haas   \n",
              "3              3             3  2022-10-21 13:04:14+00:00    DangerousRhet   \n",
              "4              4             4  2022-10-21 13:04:10+00:00  DisguiseDevilin   \n",
              "...          ...           ...                        ...              ...   \n",
              "4995        4995          4995  2022-10-21 09:33:10+00:00  AbdulaiMuniru16   \n",
              "4996        4996          4996  2022-10-21 09:33:09+00:00     SANTHEafrica   \n",
              "4997        4997          4997  2022-10-21 09:33:06+00:00  thereporter_888   \n",
              "4998        4998          4998  2022-10-21 09:33:02+00:00  qeVJK6FZe9e4NWO   \n",
              "4999        4999          4999  2022-10-21 09:33:01+00:00   JansensAdriaan   \n",
              "\n",
              "                                                  Tweet  \n",
              "0     List of states with a Democrat governor that w...  \n",
              "1     @Sky__SSBU @Chamchamat Efficacy Against COVID-...  \n",
              "2     @submuc1 @trottelei @Markus_Soeder Ist doch eg...  \n",
              "3     Youtube is still collaborating with big tech a...  \n",
              "4       #China  #COVID19  #test https://t.co/8XMrfWp5mG  \n",
              "...                                                 ...  \n",
              "4995  @obiMpenaAustine @papakwesi_jr Its clear Nana ...  \n",
              "4996  APPROACHES TO COMBAT COVID-19 IN LOW- &amp; MI...  \n",
              "4997  JUST IN: \"COVID CONTRIBUTED TO A QUARTER OF MA...  \n",
              "4998  @zOjzQ8sS9mqZ5yQ @sstlMYz29RYaHDX @EARL_COVID1...  \n",
              "4999  Occulte symboliek rond COVID-19 https://t.co/d...  \n",
              "\n",
              "[5000 rows x 5 columns]"
            ],
            "text/html": [
              "\n",
              "  <div id=\"df-c7c2ca24-5940-446f-b652-458b83495bed\">\n",
              "    <div class=\"colab-df-container\">\n",
              "      <div>\n",
              "<style scoped>\n",
              "    .dataframe tbody tr th:only-of-type {\n",
              "        vertical-align: middle;\n",
              "    }\n",
              "\n",
              "    .dataframe tbody tr th {\n",
              "        vertical-align: top;\n",
              "    }\n",
              "\n",
              "    .dataframe thead th {\n",
              "        text-align: right;\n",
              "    }\n",
              "</style>\n",
              "<table border=\"1\" class=\"dataframe\">\n",
              "  <thead>\n",
              "    <tr style=\"text-align: right;\">\n",
              "      <th></th>\n",
              "      <th>Unnamed: 0</th>\n",
              "      <th>Unnamed: 0.1</th>\n",
              "      <th>Date</th>\n",
              "      <th>User</th>\n",
              "      <th>Tweet</th>\n",
              "    </tr>\n",
              "  </thead>\n",
              "  <tbody>\n",
              "    <tr>\n",
              "      <th>0</th>\n",
              "      <td>0</td>\n",
              "      <td>0</td>\n",
              "      <td>2022-10-21 13:04:22+00:00</td>\n",
              "      <td>RepublicanRjl</td>\n",
              "      <td>List of states with a Democrat governor that w...</td>\n",
              "    </tr>\n",
              "    <tr>\n",
              "      <th>1</th>\n",
              "      <td>1</td>\n",
              "      <td>1</td>\n",
              "      <td>2022-10-21 13:04:18+00:00</td>\n",
              "      <td>DS56484494</td>\n",
              "      <td>@Sky__SSBU @Chamchamat Efficacy Against COVID-...</td>\n",
              "    </tr>\n",
              "    <tr>\n",
              "      <th>2</th>\n",
              "      <td>2</td>\n",
              "      <td>2</td>\n",
              "      <td>2022-10-21 13:04:16+00:00</td>\n",
              "      <td>rya_haas</td>\n",
              "      <td>@submuc1 @trottelei @Markus_Soeder Ist doch eg...</td>\n",
              "    </tr>\n",
              "    <tr>\n",
              "      <th>3</th>\n",
              "      <td>3</td>\n",
              "      <td>3</td>\n",
              "      <td>2022-10-21 13:04:14+00:00</td>\n",
              "      <td>DangerousRhet</td>\n",
              "      <td>Youtube is still collaborating with big tech a...</td>\n",
              "    </tr>\n",
              "    <tr>\n",
              "      <th>4</th>\n",
              "      <td>4</td>\n",
              "      <td>4</td>\n",
              "      <td>2022-10-21 13:04:10+00:00</td>\n",
              "      <td>DisguiseDevilin</td>\n",
              "      <td>#China  #COVID19  #test https://t.co/8XMrfWp5mG</td>\n",
              "    </tr>\n",
              "    <tr>\n",
              "      <th>...</th>\n",
              "      <td>...</td>\n",
              "      <td>...</td>\n",
              "      <td>...</td>\n",
              "      <td>...</td>\n",
              "      <td>...</td>\n",
              "    </tr>\n",
              "    <tr>\n",
              "      <th>4995</th>\n",
              "      <td>4995</td>\n",
              "      <td>4995</td>\n",
              "      <td>2022-10-21 09:33:10+00:00</td>\n",
              "      <td>AbdulaiMuniru16</td>\n",
              "      <td>@obiMpenaAustine @papakwesi_jr Its clear Nana ...</td>\n",
              "    </tr>\n",
              "    <tr>\n",
              "      <th>4996</th>\n",
              "      <td>4996</td>\n",
              "      <td>4996</td>\n",
              "      <td>2022-10-21 09:33:09+00:00</td>\n",
              "      <td>SANTHEafrica</td>\n",
              "      <td>APPROACHES TO COMBAT COVID-19 IN LOW- &amp;amp; MI...</td>\n",
              "    </tr>\n",
              "    <tr>\n",
              "      <th>4997</th>\n",
              "      <td>4997</td>\n",
              "      <td>4997</td>\n",
              "      <td>2022-10-21 09:33:06+00:00</td>\n",
              "      <td>thereporter_888</td>\n",
              "      <td>JUST IN: \"COVID CONTRIBUTED TO A QUARTER OF MA...</td>\n",
              "    </tr>\n",
              "    <tr>\n",
              "      <th>4998</th>\n",
              "      <td>4998</td>\n",
              "      <td>4998</td>\n",
              "      <td>2022-10-21 09:33:02+00:00</td>\n",
              "      <td>qeVJK6FZe9e4NWO</td>\n",
              "      <td>@zOjzQ8sS9mqZ5yQ @sstlMYz29RYaHDX @EARL_COVID1...</td>\n",
              "    </tr>\n",
              "    <tr>\n",
              "      <th>4999</th>\n",
              "      <td>4999</td>\n",
              "      <td>4999</td>\n",
              "      <td>2022-10-21 09:33:01+00:00</td>\n",
              "      <td>JansensAdriaan</td>\n",
              "      <td>Occulte symboliek rond COVID-19 https://t.co/d...</td>\n",
              "    </tr>\n",
              "  </tbody>\n",
              "</table>\n",
              "<p>5000 rows × 5 columns</p>\n",
              "</div>\n",
              "      <button class=\"colab-df-convert\" onclick=\"convertToInteractive('df-c7c2ca24-5940-446f-b652-458b83495bed')\"\n",
              "              title=\"Convert this dataframe to an interactive table.\"\n",
              "              style=\"display:none;\">\n",
              "        \n",
              "  <svg xmlns=\"http://www.w3.org/2000/svg\" height=\"24px\"viewBox=\"0 0 24 24\"\n",
              "       width=\"24px\">\n",
              "    <path d=\"M0 0h24v24H0V0z\" fill=\"none\"/>\n",
              "    <path d=\"M18.56 5.44l.94 2.06.94-2.06 2.06-.94-2.06-.94-.94-2.06-.94 2.06-2.06.94zm-11 1L8.5 8.5l.94-2.06 2.06-.94-2.06-.94L8.5 2.5l-.94 2.06-2.06.94zm10 10l.94 2.06.94-2.06 2.06-.94-2.06-.94-.94-2.06-.94 2.06-2.06.94z\"/><path d=\"M17.41 7.96l-1.37-1.37c-.4-.4-.92-.59-1.43-.59-.52 0-1.04.2-1.43.59L10.3 9.45l-7.72 7.72c-.78.78-.78 2.05 0 2.83L4 21.41c.39.39.9.59 1.41.59.51 0 1.02-.2 1.41-.59l7.78-7.78 2.81-2.81c.8-.78.8-2.07 0-2.86zM5.41 20L4 18.59l7.72-7.72 1.47 1.35L5.41 20z\"/>\n",
              "  </svg>\n",
              "      </button>\n",
              "      \n",
              "  <style>\n",
              "    .colab-df-container {\n",
              "      display:flex;\n",
              "      flex-wrap:wrap;\n",
              "      gap: 12px;\n",
              "    }\n",
              "\n",
              "    .colab-df-convert {\n",
              "      background-color: #E8F0FE;\n",
              "      border: none;\n",
              "      border-radius: 50%;\n",
              "      cursor: pointer;\n",
              "      display: none;\n",
              "      fill: #1967D2;\n",
              "      height: 32px;\n",
              "      padding: 0 0 0 0;\n",
              "      width: 32px;\n",
              "    }\n",
              "\n",
              "    .colab-df-convert:hover {\n",
              "      background-color: #E2EBFA;\n",
              "      box-shadow: 0px 1px 2px rgba(60, 64, 67, 0.3), 0px 1px 3px 1px rgba(60, 64, 67, 0.15);\n",
              "      fill: #174EA6;\n",
              "    }\n",
              "\n",
              "    [theme=dark] .colab-df-convert {\n",
              "      background-color: #3B4455;\n",
              "      fill: #D2E3FC;\n",
              "    }\n",
              "\n",
              "    [theme=dark] .colab-df-convert:hover {\n",
              "      background-color: #434B5C;\n",
              "      box-shadow: 0px 1px 3px 1px rgba(0, 0, 0, 0.15);\n",
              "      filter: drop-shadow(0px 1px 2px rgba(0, 0, 0, 0.3));\n",
              "      fill: #FFFFFF;\n",
              "    }\n",
              "  </style>\n",
              "\n",
              "      <script>\n",
              "        const buttonEl =\n",
              "          document.querySelector('#df-c7c2ca24-5940-446f-b652-458b83495bed button.colab-df-convert');\n",
              "        buttonEl.style.display =\n",
              "          google.colab.kernel.accessAllowed ? 'block' : 'none';\n",
              "\n",
              "        async function convertToInteractive(key) {\n",
              "          const element = document.querySelector('#df-c7c2ca24-5940-446f-b652-458b83495bed');\n",
              "          const dataTable =\n",
              "            await google.colab.kernel.invokeFunction('convertToInteractive',\n",
              "                                                     [key], {});\n",
              "          if (!dataTable) return;\n",
              "\n",
              "          const docLinkHtml = 'Like what you see? Visit the ' +\n",
              "            '<a target=\"_blank\" href=https://colab.research.google.com/notebooks/data_table.ipynb>data table notebook</a>'\n",
              "            + ' to learn more about interactive tables.';\n",
              "          element.innerHTML = '';\n",
              "          dataTable['output_type'] = 'display_data';\n",
              "          await google.colab.output.renderOutput(dataTable, element);\n",
              "          const docLink = document.createElement('div');\n",
              "          docLink.innerHTML = docLinkHtml;\n",
              "          element.appendChild(docLink);\n",
              "        }\n",
              "      </script>\n",
              "    </div>\n",
              "  </div>\n",
              "  "
            ]
          },
          "metadata": {},
          "execution_count": 7
        }
      ]
    },
    {
      "cell_type": "code",
      "source": [
        "data.drop(columns = data.columns[0], axis = 1, inplace= True)\n",
        "data"
      ],
      "metadata": {
        "id": "BrYLp__jyvVj",
        "colab": {
          "base_uri": "https://localhost:8080/",
          "height": 424
        },
        "outputId": "eac69a8d-9f8c-4d98-93df-aea0cefc9aaf"
      },
      "execution_count": null,
      "outputs": [
        {
          "output_type": "execute_result",
          "data": {
            "text/plain": [
              "                           Date             User  \\\n",
              "0     2022-10-21 13:04:22+00:00    RepublicanRjl   \n",
              "1     2022-10-21 13:04:18+00:00       DS56484494   \n",
              "2     2022-10-21 13:04:16+00:00         rya_haas   \n",
              "3     2022-10-21 13:04:14+00:00    DangerousRhet   \n",
              "4     2022-10-21 13:04:10+00:00  DisguiseDevilin   \n",
              "...                         ...              ...   \n",
              "4995  2022-10-21 09:33:10+00:00  AbdulaiMuniru16   \n",
              "4996  2022-10-21 09:33:09+00:00     SANTHEafrica   \n",
              "4997  2022-10-21 09:33:06+00:00  thereporter_888   \n",
              "4998  2022-10-21 09:33:02+00:00  qeVJK6FZe9e4NWO   \n",
              "4999  2022-10-21 09:33:01+00:00   JansensAdriaan   \n",
              "\n",
              "                                                  Tweet  \n",
              "0     List of states with a Democrat governor that w...  \n",
              "1     @Sky__SSBU @Chamchamat Efficacy Against COVID-...  \n",
              "2     @submuc1 @trottelei @Markus_Soeder Ist doch eg...  \n",
              "3     Youtube is still collaborating with big tech a...  \n",
              "4       #China  #COVID19  #test https://t.co/8XMrfWp5mG  \n",
              "...                                                 ...  \n",
              "4995  @obiMpenaAustine @papakwesi_jr Its clear Nana ...  \n",
              "4996  APPROACHES TO COMBAT COVID-19 IN LOW- &amp; MI...  \n",
              "4997  JUST IN: \"COVID CONTRIBUTED TO A QUARTER OF MA...  \n",
              "4998  @zOjzQ8sS9mqZ5yQ @sstlMYz29RYaHDX @EARL_COVID1...  \n",
              "4999  Occulte symboliek rond COVID-19 https://t.co/d...  \n",
              "\n",
              "[5000 rows x 3 columns]"
            ],
            "text/html": [
              "\n",
              "  <div id=\"df-e14df1f5-563e-4a08-b1b9-b56da0b506b4\">\n",
              "    <div class=\"colab-df-container\">\n",
              "      <div>\n",
              "<style scoped>\n",
              "    .dataframe tbody tr th:only-of-type {\n",
              "        vertical-align: middle;\n",
              "    }\n",
              "\n",
              "    .dataframe tbody tr th {\n",
              "        vertical-align: top;\n",
              "    }\n",
              "\n",
              "    .dataframe thead th {\n",
              "        text-align: right;\n",
              "    }\n",
              "</style>\n",
              "<table border=\"1\" class=\"dataframe\">\n",
              "  <thead>\n",
              "    <tr style=\"text-align: right;\">\n",
              "      <th></th>\n",
              "      <th>Date</th>\n",
              "      <th>User</th>\n",
              "      <th>Tweet</th>\n",
              "    </tr>\n",
              "  </thead>\n",
              "  <tbody>\n",
              "    <tr>\n",
              "      <th>0</th>\n",
              "      <td>2022-10-21 13:04:22+00:00</td>\n",
              "      <td>RepublicanRjl</td>\n",
              "      <td>List of states with a Democrat governor that w...</td>\n",
              "    </tr>\n",
              "    <tr>\n",
              "      <th>1</th>\n",
              "      <td>2022-10-21 13:04:18+00:00</td>\n",
              "      <td>DS56484494</td>\n",
              "      <td>@Sky__SSBU @Chamchamat Efficacy Against COVID-...</td>\n",
              "    </tr>\n",
              "    <tr>\n",
              "      <th>2</th>\n",
              "      <td>2022-10-21 13:04:16+00:00</td>\n",
              "      <td>rya_haas</td>\n",
              "      <td>@submuc1 @trottelei @Markus_Soeder Ist doch eg...</td>\n",
              "    </tr>\n",
              "    <tr>\n",
              "      <th>3</th>\n",
              "      <td>2022-10-21 13:04:14+00:00</td>\n",
              "      <td>DangerousRhet</td>\n",
              "      <td>Youtube is still collaborating with big tech a...</td>\n",
              "    </tr>\n",
              "    <tr>\n",
              "      <th>4</th>\n",
              "      <td>2022-10-21 13:04:10+00:00</td>\n",
              "      <td>DisguiseDevilin</td>\n",
              "      <td>#China  #COVID19  #test https://t.co/8XMrfWp5mG</td>\n",
              "    </tr>\n",
              "    <tr>\n",
              "      <th>...</th>\n",
              "      <td>...</td>\n",
              "      <td>...</td>\n",
              "      <td>...</td>\n",
              "    </tr>\n",
              "    <tr>\n",
              "      <th>4995</th>\n",
              "      <td>2022-10-21 09:33:10+00:00</td>\n",
              "      <td>AbdulaiMuniru16</td>\n",
              "      <td>@obiMpenaAustine @papakwesi_jr Its clear Nana ...</td>\n",
              "    </tr>\n",
              "    <tr>\n",
              "      <th>4996</th>\n",
              "      <td>2022-10-21 09:33:09+00:00</td>\n",
              "      <td>SANTHEafrica</td>\n",
              "      <td>APPROACHES TO COMBAT COVID-19 IN LOW- &amp;amp; MI...</td>\n",
              "    </tr>\n",
              "    <tr>\n",
              "      <th>4997</th>\n",
              "      <td>2022-10-21 09:33:06+00:00</td>\n",
              "      <td>thereporter_888</td>\n",
              "      <td>JUST IN: \"COVID CONTRIBUTED TO A QUARTER OF MA...</td>\n",
              "    </tr>\n",
              "    <tr>\n",
              "      <th>4998</th>\n",
              "      <td>2022-10-21 09:33:02+00:00</td>\n",
              "      <td>qeVJK6FZe9e4NWO</td>\n",
              "      <td>@zOjzQ8sS9mqZ5yQ @sstlMYz29RYaHDX @EARL_COVID1...</td>\n",
              "    </tr>\n",
              "    <tr>\n",
              "      <th>4999</th>\n",
              "      <td>2022-10-21 09:33:01+00:00</td>\n",
              "      <td>JansensAdriaan</td>\n",
              "      <td>Occulte symboliek rond COVID-19 https://t.co/d...</td>\n",
              "    </tr>\n",
              "  </tbody>\n",
              "</table>\n",
              "<p>5000 rows × 3 columns</p>\n",
              "</div>\n",
              "      <button class=\"colab-df-convert\" onclick=\"convertToInteractive('df-e14df1f5-563e-4a08-b1b9-b56da0b506b4')\"\n",
              "              title=\"Convert this dataframe to an interactive table.\"\n",
              "              style=\"display:none;\">\n",
              "        \n",
              "  <svg xmlns=\"http://www.w3.org/2000/svg\" height=\"24px\"viewBox=\"0 0 24 24\"\n",
              "       width=\"24px\">\n",
              "    <path d=\"M0 0h24v24H0V0z\" fill=\"none\"/>\n",
              "    <path d=\"M18.56 5.44l.94 2.06.94-2.06 2.06-.94-2.06-.94-.94-2.06-.94 2.06-2.06.94zm-11 1L8.5 8.5l.94-2.06 2.06-.94-2.06-.94L8.5 2.5l-.94 2.06-2.06.94zm10 10l.94 2.06.94-2.06 2.06-.94-2.06-.94-.94-2.06-.94 2.06-2.06.94z\"/><path d=\"M17.41 7.96l-1.37-1.37c-.4-.4-.92-.59-1.43-.59-.52 0-1.04.2-1.43.59L10.3 9.45l-7.72 7.72c-.78.78-.78 2.05 0 2.83L4 21.41c.39.39.9.59 1.41.59.51 0 1.02-.2 1.41-.59l7.78-7.78 2.81-2.81c.8-.78.8-2.07 0-2.86zM5.41 20L4 18.59l7.72-7.72 1.47 1.35L5.41 20z\"/>\n",
              "  </svg>\n",
              "      </button>\n",
              "      \n",
              "  <style>\n",
              "    .colab-df-container {\n",
              "      display:flex;\n",
              "      flex-wrap:wrap;\n",
              "      gap: 12px;\n",
              "    }\n",
              "\n",
              "    .colab-df-convert {\n",
              "      background-color: #E8F0FE;\n",
              "      border: none;\n",
              "      border-radius: 50%;\n",
              "      cursor: pointer;\n",
              "      display: none;\n",
              "      fill: #1967D2;\n",
              "      height: 32px;\n",
              "      padding: 0 0 0 0;\n",
              "      width: 32px;\n",
              "    }\n",
              "\n",
              "    .colab-df-convert:hover {\n",
              "      background-color: #E2EBFA;\n",
              "      box-shadow: 0px 1px 2px rgba(60, 64, 67, 0.3), 0px 1px 3px 1px rgba(60, 64, 67, 0.15);\n",
              "      fill: #174EA6;\n",
              "    }\n",
              "\n",
              "    [theme=dark] .colab-df-convert {\n",
              "      background-color: #3B4455;\n",
              "      fill: #D2E3FC;\n",
              "    }\n",
              "\n",
              "    [theme=dark] .colab-df-convert:hover {\n",
              "      background-color: #434B5C;\n",
              "      box-shadow: 0px 1px 3px 1px rgba(0, 0, 0, 0.15);\n",
              "      filter: drop-shadow(0px 1px 2px rgba(0, 0, 0, 0.3));\n",
              "      fill: #FFFFFF;\n",
              "    }\n",
              "  </style>\n",
              "\n",
              "      <script>\n",
              "        const buttonEl =\n",
              "          document.querySelector('#df-e14df1f5-563e-4a08-b1b9-b56da0b506b4 button.colab-df-convert');\n",
              "        buttonEl.style.display =\n",
              "          google.colab.kernel.accessAllowed ? 'block' : 'none';\n",
              "\n",
              "        async function convertToInteractive(key) {\n",
              "          const element = document.querySelector('#df-e14df1f5-563e-4a08-b1b9-b56da0b506b4');\n",
              "          const dataTable =\n",
              "            await google.colab.kernel.invokeFunction('convertToInteractive',\n",
              "                                                     [key], {});\n",
              "          if (!dataTable) return;\n",
              "\n",
              "          const docLinkHtml = 'Like what you see? Visit the ' +\n",
              "            '<a target=\"_blank\" href=https://colab.research.google.com/notebooks/data_table.ipynb>data table notebook</a>'\n",
              "            + ' to learn more about interactive tables.';\n",
              "          element.innerHTML = '';\n",
              "          dataTable['output_type'] = 'display_data';\n",
              "          await google.colab.output.renderOutput(dataTable, element);\n",
              "          const docLink = document.createElement('div');\n",
              "          docLink.innerHTML = docLinkHtml;\n",
              "          element.appendChild(docLink);\n",
              "        }\n",
              "      </script>\n",
              "    </div>\n",
              "  </div>\n",
              "  "
            ]
          },
          "metadata": {},
          "execution_count": 9
        }
      ]
    },
    {
      "cell_type": "code",
      "source": [
        "data = data.drop(['Date'], axis=1)"
      ],
      "metadata": {
        "id": "sEBUPrnPzAwK"
      },
      "execution_count": null,
      "outputs": []
    },
    {
      "cell_type": "code",
      "source": [
        "data.User.unique()"
      ],
      "metadata": {
        "colab": {
          "base_uri": "https://localhost:8080/"
        },
        "id": "eVgQ9nbhdfrm",
        "outputId": "db010092-31ee-4928-80dc-8bfb2b4679a5"
      },
      "execution_count": null,
      "outputs": [
        {
          "output_type": "execute_result",
          "data": {
            "text/plain": [
              "array(['RepublicanRjl', 'DS56484494', 'rya_haas', ..., 'SANTHEafrica',\n",
              "       'thereporter_888', 'qeVJK6FZe9e4NWO'], dtype=object)"
            ]
          },
          "metadata": {},
          "execution_count": 11
        }
      ]
    },
    {
      "cell_type": "code",
      "source": [
        "data.isnull().sum().sum()"
      ],
      "metadata": {
        "colab": {
          "base_uri": "https://localhost:8080/"
        },
        "id": "-7uRapP-dqWU",
        "outputId": "e2a42b37-bf39-430f-8384-a34524d401ab"
      },
      "execution_count": null,
      "outputs": [
        {
          "output_type": "execute_result",
          "data": {
            "text/plain": [
              "14"
            ]
          },
          "metadata": {},
          "execution_count": 12
        }
      ]
    },
    {
      "cell_type": "code",
      "source": [
        "data.fillna(value = 0,\n",
        "          inplace = True)"
      ],
      "metadata": {
        "id": "Y-qBVB1sdt0O"
      },
      "execution_count": null,
      "outputs": []
    },
    {
      "cell_type": "code",
      "source": [
        "data.head()"
      ],
      "metadata": {
        "colab": {
          "base_uri": "https://localhost:8080/",
          "height": 206
        },
        "id": "XVwomcKtdwUg",
        "outputId": "733a8e52-acc2-488c-99e4-53a496fe6832"
      },
      "execution_count": null,
      "outputs": [
        {
          "output_type": "execute_result",
          "data": {
            "text/plain": [
              "              User                                              Tweet\n",
              "0    RepublicanRjl  List of states with a Democrat governor that w...\n",
              "1       DS56484494  @Sky__SSBU @Chamchamat Efficacy Against COVID-...\n",
              "2         rya_haas  @submuc1 @trottelei @Markus_Soeder Ist doch eg...\n",
              "3    DangerousRhet  Youtube is still collaborating with big tech a...\n",
              "4  DisguiseDevilin    #China  #COVID19  #test https://t.co/8XMrfWp5mG"
            ],
            "text/html": [
              "\n",
              "  <div id=\"df-51df3aa3-cd77-4ecb-89ac-4787b125abf4\">\n",
              "    <div class=\"colab-df-container\">\n",
              "      <div>\n",
              "<style scoped>\n",
              "    .dataframe tbody tr th:only-of-type {\n",
              "        vertical-align: middle;\n",
              "    }\n",
              "\n",
              "    .dataframe tbody tr th {\n",
              "        vertical-align: top;\n",
              "    }\n",
              "\n",
              "    .dataframe thead th {\n",
              "        text-align: right;\n",
              "    }\n",
              "</style>\n",
              "<table border=\"1\" class=\"dataframe\">\n",
              "  <thead>\n",
              "    <tr style=\"text-align: right;\">\n",
              "      <th></th>\n",
              "      <th>User</th>\n",
              "      <th>Tweet</th>\n",
              "    </tr>\n",
              "  </thead>\n",
              "  <tbody>\n",
              "    <tr>\n",
              "      <th>0</th>\n",
              "      <td>RepublicanRjl</td>\n",
              "      <td>List of states with a Democrat governor that w...</td>\n",
              "    </tr>\n",
              "    <tr>\n",
              "      <th>1</th>\n",
              "      <td>DS56484494</td>\n",
              "      <td>@Sky__SSBU @Chamchamat Efficacy Against COVID-...</td>\n",
              "    </tr>\n",
              "    <tr>\n",
              "      <th>2</th>\n",
              "      <td>rya_haas</td>\n",
              "      <td>@submuc1 @trottelei @Markus_Soeder Ist doch eg...</td>\n",
              "    </tr>\n",
              "    <tr>\n",
              "      <th>3</th>\n",
              "      <td>DangerousRhet</td>\n",
              "      <td>Youtube is still collaborating with big tech a...</td>\n",
              "    </tr>\n",
              "    <tr>\n",
              "      <th>4</th>\n",
              "      <td>DisguiseDevilin</td>\n",
              "      <td>#China  #COVID19  #test https://t.co/8XMrfWp5mG</td>\n",
              "    </tr>\n",
              "  </tbody>\n",
              "</table>\n",
              "</div>\n",
              "      <button class=\"colab-df-convert\" onclick=\"convertToInteractive('df-51df3aa3-cd77-4ecb-89ac-4787b125abf4')\"\n",
              "              title=\"Convert this dataframe to an interactive table.\"\n",
              "              style=\"display:none;\">\n",
              "        \n",
              "  <svg xmlns=\"http://www.w3.org/2000/svg\" height=\"24px\"viewBox=\"0 0 24 24\"\n",
              "       width=\"24px\">\n",
              "    <path d=\"M0 0h24v24H0V0z\" fill=\"none\"/>\n",
              "    <path d=\"M18.56 5.44l.94 2.06.94-2.06 2.06-.94-2.06-.94-.94-2.06-.94 2.06-2.06.94zm-11 1L8.5 8.5l.94-2.06 2.06-.94-2.06-.94L8.5 2.5l-.94 2.06-2.06.94zm10 10l.94 2.06.94-2.06 2.06-.94-2.06-.94-.94-2.06-.94 2.06-2.06.94z\"/><path d=\"M17.41 7.96l-1.37-1.37c-.4-.4-.92-.59-1.43-.59-.52 0-1.04.2-1.43.59L10.3 9.45l-7.72 7.72c-.78.78-.78 2.05 0 2.83L4 21.41c.39.39.9.59 1.41.59.51 0 1.02-.2 1.41-.59l7.78-7.78 2.81-2.81c.8-.78.8-2.07 0-2.86zM5.41 20L4 18.59l7.72-7.72 1.47 1.35L5.41 20z\"/>\n",
              "  </svg>\n",
              "      </button>\n",
              "      \n",
              "  <style>\n",
              "    .colab-df-container {\n",
              "      display:flex;\n",
              "      flex-wrap:wrap;\n",
              "      gap: 12px;\n",
              "    }\n",
              "\n",
              "    .colab-df-convert {\n",
              "      background-color: #E8F0FE;\n",
              "      border: none;\n",
              "      border-radius: 50%;\n",
              "      cursor: pointer;\n",
              "      display: none;\n",
              "      fill: #1967D2;\n",
              "      height: 32px;\n",
              "      padding: 0 0 0 0;\n",
              "      width: 32px;\n",
              "    }\n",
              "\n",
              "    .colab-df-convert:hover {\n",
              "      background-color: #E2EBFA;\n",
              "      box-shadow: 0px 1px 2px rgba(60, 64, 67, 0.3), 0px 1px 3px 1px rgba(60, 64, 67, 0.15);\n",
              "      fill: #174EA6;\n",
              "    }\n",
              "\n",
              "    [theme=dark] .colab-df-convert {\n",
              "      background-color: #3B4455;\n",
              "      fill: #D2E3FC;\n",
              "    }\n",
              "\n",
              "    [theme=dark] .colab-df-convert:hover {\n",
              "      background-color: #434B5C;\n",
              "      box-shadow: 0px 1px 3px 1px rgba(0, 0, 0, 0.15);\n",
              "      filter: drop-shadow(0px 1px 2px rgba(0, 0, 0, 0.3));\n",
              "      fill: #FFFFFF;\n",
              "    }\n",
              "  </style>\n",
              "\n",
              "      <script>\n",
              "        const buttonEl =\n",
              "          document.querySelector('#df-51df3aa3-cd77-4ecb-89ac-4787b125abf4 button.colab-df-convert');\n",
              "        buttonEl.style.display =\n",
              "          google.colab.kernel.accessAllowed ? 'block' : 'none';\n",
              "\n",
              "        async function convertToInteractive(key) {\n",
              "          const element = document.querySelector('#df-51df3aa3-cd77-4ecb-89ac-4787b125abf4');\n",
              "          const dataTable =\n",
              "            await google.colab.kernel.invokeFunction('convertToInteractive',\n",
              "                                                     [key], {});\n",
              "          if (!dataTable) return;\n",
              "\n",
              "          const docLinkHtml = 'Like what you see? Visit the ' +\n",
              "            '<a target=\"_blank\" href=https://colab.research.google.com/notebooks/data_table.ipynb>data table notebook</a>'\n",
              "            + ' to learn more about interactive tables.';\n",
              "          element.innerHTML = '';\n",
              "          dataTable['output_type'] = 'display_data';\n",
              "          await google.colab.output.renderOutput(dataTable, element);\n",
              "          const docLink = document.createElement('div');\n",
              "          docLink.innerHTML = docLinkHtml;\n",
              "          element.appendChild(docLink);\n",
              "        }\n",
              "      </script>\n",
              "    </div>\n",
              "  </div>\n",
              "  "
            ]
          },
          "metadata": {},
          "execution_count": 17
        }
      ]
    },
    {
      "cell_type": "code",
      "source": [
        "data=data.astype(str)"
      ],
      "metadata": {
        "id": "ysA6BDPVgX8j"
      },
      "execution_count": null,
      "outputs": []
    },
    {
      "cell_type": "code",
      "source": [
        "def get_tweets(dataset):\n",
        "    tweets = [x for x in dataset['Tweet']]\n",
        "    labels = [x for x in dataset['User']]\n",
        "    return tweets, labels"
      ],
      "metadata": {
        "id": "diVERYu7d0i0"
      },
      "execution_count": null,
      "outputs": []
    },
    {
      "cell_type": "code",
      "source": [
        "tweets, labels = get_tweets(data)"
      ],
      "metadata": {
        "id": "IqqVoRzdeTdv"
      },
      "execution_count": null,
      "outputs": []
    },
    {
      "cell_type": "code",
      "source": [
        "tweets[0], labels[0]"
      ],
      "metadata": {
        "colab": {
          "base_uri": "https://localhost:8080/"
        },
        "id": "3ERXfgaoeVAv",
        "outputId": "272caa56-a169-4d2b-dd6f-2f878d167439"
      },
      "execution_count": null,
      "outputs": [
        {
          "output_type": "execute_result",
          "data": {
            "text/plain": [
              "(\"List of states with a Democrat governor that will follow suit please.\\n\\nSafe States for Children: Here's a List of Republican Governors Who Won't Comply with CDC Mandates to Force COVID-19 Vaccination on Kids for School https://t.co/zaf31miITl via @gatewaypundit\",\n",
              " 'RepublicanRjl')"
            ]
          },
          "metadata": {},
          "execution_count": 35
        }
      ]
    },
    {
      "cell_type": "code",
      "source": [
        "def text_prepare(input_text, ar_text):\n",
        "    out_text = delete_links(input_text)\n",
        "    out_text = delete_repeated_characters(out_text)\n",
        "    out_text = clean_text(out_text)\n",
        "    out_text = delete_stopwords(out_text)\n",
        "    out_text = out_text.lower()\n",
        "    return out_text"
      ],
      "metadata": {
        "id": "sZJ5jzukeb3W"
      },
      "execution_count": null,
      "outputs": []
    },
    {
      "cell_type": "code",
      "source": [
        "import re"
      ],
      "metadata": {
        "id": "XQdBNrd-eeJg"
      },
      "execution_count": null,
      "outputs": []
    },
    {
      "cell_type": "code",
      "source": [
        "def delete_links(input_text):\n",
        "    pettern  = r'''(?i)\\b((?:https?://|www\\d{0,3}[.]|[a-z0-9.\\-]+[.][a-z]{2,4}/)(?:[^\\s()<>]+|\\(([^\\s()<>]+|(\\([^\\s()<>]+\\)))\\))+(?:\\(([^\\s()<>]+|(\\([^\\s()<>]+\\)))\\)|[^\\s`!()\\[\\]{};:'\".,<>?«»“”‘’]))'''\n",
        "    out_text = re.sub(pettern, ' ', input_text)\n",
        "    return out_text"
      ],
      "metadata": {
        "id": "BO9udg9xeiUk"
      },
      "execution_count": null,
      "outputs": []
    },
    {
      "cell_type": "code",
      "source": [
        "def delete_repeated_characters(input_text):\n",
        "    pattern  = r'(.)\\1{2,}'\n",
        "    out_text = re.sub(pattern, r\"\\1\\1\", input_text)\n",
        "    return out_text"
      ],
      "metadata": {
        "id": "OP-vFvLnejhj"
      },
      "execution_count": null,
      "outputs": []
    },
    {
      "cell_type": "code",
      "source": [
        "def clean_text(input_text):\n",
        "    replace = r'[/(){}\\[\\]|@âÂ,;\\?\\'\\\"\\*…؟–’،!&\\+-:؛-]'\n",
        "    out_text = re.sub(replace, \" \", input_text)\n",
        "    words = nltk.word_tokenize(out_text)\n",
        "    words = [word for word in words if word.isalpha()]\n",
        "    out_text = ' '.join(words)\n",
        "    return out_text"
      ],
      "metadata": {
        "id": "AZEw6iZreoC6"
      },
      "execution_count": null,
      "outputs": []
    },
    {
      "cell_type": "code",
      "source": [
        "def delete_stopwords(input_text):\n",
        "    stop_words = set(nltk.corpus.stopwords.words(\"arabic\") + nltk.corpus.stopwords.words(\"english\"))\n",
        "    tokenizer = nltk.tokenize.WhitespaceTokenizer()\n",
        "    tokens = tokenizer.tokenize(input_text)\n",
        "    wnl = nltk.WordNetLemmatizer()\n",
        "    lemmatizedTokens =[wnl.lemmatize(t) for t in tokens]\n",
        "    out_text = [w for w in lemmatizedTokens if not w in stop_words]\n",
        "    out_text = ' '.join(out_text)\n",
        "    return out_text"
      ],
      "metadata": {
        "id": "SqB2PqL8eqXU"
      },
      "execution_count": null,
      "outputs": []
    },
    {
      "cell_type": "code",
      "source": [
        "import nltk\n",
        "nltk.download('punkt')\n",
        "nltk.download('wordnet')\n",
        "nltk.download('omw-1.4')\n",
        "nltk.download('stopwords')"
      ],
      "metadata": {
        "colab": {
          "base_uri": "https://localhost:8080/"
        },
        "id": "3bDw0U33esfw",
        "outputId": "a50c929d-8a37-4aee-f8ce-5246283df194"
      },
      "execution_count": null,
      "outputs": [
        {
          "output_type": "stream",
          "name": "stderr",
          "text": [
            "[nltk_data] Downloading package punkt to /root/nltk_data...\n",
            "[nltk_data]   Unzipping tokenizers/punkt.zip.\n",
            "[nltk_data] Downloading package wordnet to /root/nltk_data...\n",
            "[nltk_data] Downloading package omw-1.4 to /root/nltk_data...\n",
            "[nltk_data] Downloading package stopwords to /root/nltk_data...\n",
            "[nltk_data]   Unzipping corpora/stopwords.zip.\n"
          ]
        },
        {
          "output_type": "execute_result",
          "data": {
            "text/plain": [
              "True"
            ]
          },
          "metadata": {},
          "execution_count": 27
        }
      ]
    },
    {
      "cell_type": "code",
      "source": [
        "data['ProcessedText']=data['Tweet'].apply(text_prepare, args=(False,))\n",
        "data.sample(10)"
      ],
      "metadata": {
        "colab": {
          "base_uri": "https://localhost:8080/",
          "height": 363
        },
        "id": "H2dq3cwbe1SM",
        "outputId": "978d3b07-7dee-499e-e564-41c4c7a9ee67"
      },
      "execution_count": null,
      "outputs": [
        {
          "output_type": "execute_result",
          "data": {
            "text/plain": [
              "                 User                                              Tweet  \\\n",
              "4351    vacccprogress  At least 1 dose by continent:\\n\\nAfrica:\\n 30....   \n",
              "1037       Hotsandy_7  There's a Huge amount of People  still grievin...   \n",
              "142   joseramonrussia  En ocho estados del pas se report un total de ...   \n",
              "412        elindepepy  #COVID19 \\n\\nEl doctor Guillermo Sequera anunc...   \n",
              "4177       seaconhome  (7) Asian Winter Games  1986   4   2021  COVID...   \n",
              "776    Fritz_wrestler  @RealZazieSkymm are you at the VENUS in Berlin...   \n",
              "1867     InsideHalton  'I'm still being careful': Several new #COVID1...   \n",
              "2871     BulanBastien  Le gouverneur de Floride, DeSantis: \"tant que ...   \n",
              "690       DeniAryo121  @MprAldo Klo memang spt itu efek sampingnya.. ...   \n",
              "750         sledilnik  \"Nae zdravstvo ne rabi COVID epidemije, da je ...   \n",
              "\n",
              "                                          ProcessedText  \n",
              "4351  at least dose continent africa asia europe n a...  \n",
              "1037  there huge amount people still grieving for lo...  \n",
              "142   en ocho estados del pa se report un total de n...  \n",
              "412   covid el doctor guillermo sequera anunci que d...  \n",
              "4177                           asian winter games covid  \n",
              "776           realzazieskymm venus berlin princessnikki  \n",
              "1867  i still careful several new covid outbreak imp...  \n",
              "2871  le gouverneur de floride desantis tant que je ...  \n",
              "690   mpraldo klo memang spt itu efek sampingnya bet...  \n",
              "750   nae zdravstvo ne rabi covid epidemije da je kr...  "
            ],
            "text/html": [
              "\n",
              "  <div id=\"df-7efcd93d-3e30-4a1f-8d06-2492af14b96e\">\n",
              "    <div class=\"colab-df-container\">\n",
              "      <div>\n",
              "<style scoped>\n",
              "    .dataframe tbody tr th:only-of-type {\n",
              "        vertical-align: middle;\n",
              "    }\n",
              "\n",
              "    .dataframe tbody tr th {\n",
              "        vertical-align: top;\n",
              "    }\n",
              "\n",
              "    .dataframe thead th {\n",
              "        text-align: right;\n",
              "    }\n",
              "</style>\n",
              "<table border=\"1\" class=\"dataframe\">\n",
              "  <thead>\n",
              "    <tr style=\"text-align: right;\">\n",
              "      <th></th>\n",
              "      <th>User</th>\n",
              "      <th>Tweet</th>\n",
              "      <th>ProcessedText</th>\n",
              "    </tr>\n",
              "  </thead>\n",
              "  <tbody>\n",
              "    <tr>\n",
              "      <th>4351</th>\n",
              "      <td>vacccprogress</td>\n",
              "      <td>At least 1 dose by continent:\\n\\nAfrica:\\n 30....</td>\n",
              "      <td>at least dose continent africa asia europe n a...</td>\n",
              "    </tr>\n",
              "    <tr>\n",
              "      <th>1037</th>\n",
              "      <td>Hotsandy_7</td>\n",
              "      <td>There's a Huge amount of People  still grievin...</td>\n",
              "      <td>there huge amount people still grieving for lo...</td>\n",
              "    </tr>\n",
              "    <tr>\n",
              "      <th>142</th>\n",
              "      <td>joseramonrussia</td>\n",
              "      <td>En ocho estados del pas se report un total de ...</td>\n",
              "      <td>en ocho estados del pa se report un total de n...</td>\n",
              "    </tr>\n",
              "    <tr>\n",
              "      <th>412</th>\n",
              "      <td>elindepepy</td>\n",
              "      <td>#COVID19 \\n\\nEl doctor Guillermo Sequera anunc...</td>\n",
              "      <td>covid el doctor guillermo sequera anunci que d...</td>\n",
              "    </tr>\n",
              "    <tr>\n",
              "      <th>4177</th>\n",
              "      <td>seaconhome</td>\n",
              "      <td>(7) Asian Winter Games  1986   4   2021  COVID...</td>\n",
              "      <td>asian winter games covid</td>\n",
              "    </tr>\n",
              "    <tr>\n",
              "      <th>776</th>\n",
              "      <td>Fritz_wrestler</td>\n",
              "      <td>@RealZazieSkymm are you at the VENUS in Berlin...</td>\n",
              "      <td>realzazieskymm venus berlin princessnikki</td>\n",
              "    </tr>\n",
              "    <tr>\n",
              "      <th>1867</th>\n",
              "      <td>InsideHalton</td>\n",
              "      <td>'I'm still being careful': Several new #COVID1...</td>\n",
              "      <td>i still careful several new covid outbreak imp...</td>\n",
              "    </tr>\n",
              "    <tr>\n",
              "      <th>2871</th>\n",
              "      <td>BulanBastien</td>\n",
              "      <td>Le gouverneur de Floride, DeSantis: \"tant que ...</td>\n",
              "      <td>le gouverneur de floride desantis tant que je ...</td>\n",
              "    </tr>\n",
              "    <tr>\n",
              "      <th>690</th>\n",
              "      <td>DeniAryo121</td>\n",
              "      <td>@MprAldo Klo memang spt itu efek sampingnya.. ...</td>\n",
              "      <td>mpraldo klo memang spt itu efek sampingnya bet...</td>\n",
              "    </tr>\n",
              "    <tr>\n",
              "      <th>750</th>\n",
              "      <td>sledilnik</td>\n",
              "      <td>\"Nae zdravstvo ne rabi COVID epidemije, da je ...</td>\n",
              "      <td>nae zdravstvo ne rabi covid epidemije da je kr...</td>\n",
              "    </tr>\n",
              "  </tbody>\n",
              "</table>\n",
              "</div>\n",
              "      <button class=\"colab-df-convert\" onclick=\"convertToInteractive('df-7efcd93d-3e30-4a1f-8d06-2492af14b96e')\"\n",
              "              title=\"Convert this dataframe to an interactive table.\"\n",
              "              style=\"display:none;\">\n",
              "        \n",
              "  <svg xmlns=\"http://www.w3.org/2000/svg\" height=\"24px\"viewBox=\"0 0 24 24\"\n",
              "       width=\"24px\">\n",
              "    <path d=\"M0 0h24v24H0V0z\" fill=\"none\"/>\n",
              "    <path d=\"M18.56 5.44l.94 2.06.94-2.06 2.06-.94-2.06-.94-.94-2.06-.94 2.06-2.06.94zm-11 1L8.5 8.5l.94-2.06 2.06-.94-2.06-.94L8.5 2.5l-.94 2.06-2.06.94zm10 10l.94 2.06.94-2.06 2.06-.94-2.06-.94-.94-2.06-.94 2.06-2.06.94z\"/><path d=\"M17.41 7.96l-1.37-1.37c-.4-.4-.92-.59-1.43-.59-.52 0-1.04.2-1.43.59L10.3 9.45l-7.72 7.72c-.78.78-.78 2.05 0 2.83L4 21.41c.39.39.9.59 1.41.59.51 0 1.02-.2 1.41-.59l7.78-7.78 2.81-2.81c.8-.78.8-2.07 0-2.86zM5.41 20L4 18.59l7.72-7.72 1.47 1.35L5.41 20z\"/>\n",
              "  </svg>\n",
              "      </button>\n",
              "      \n",
              "  <style>\n",
              "    .colab-df-container {\n",
              "      display:flex;\n",
              "      flex-wrap:wrap;\n",
              "      gap: 12px;\n",
              "    }\n",
              "\n",
              "    .colab-df-convert {\n",
              "      background-color: #E8F0FE;\n",
              "      border: none;\n",
              "      border-radius: 50%;\n",
              "      cursor: pointer;\n",
              "      display: none;\n",
              "      fill: #1967D2;\n",
              "      height: 32px;\n",
              "      padding: 0 0 0 0;\n",
              "      width: 32px;\n",
              "    }\n",
              "\n",
              "    .colab-df-convert:hover {\n",
              "      background-color: #E2EBFA;\n",
              "      box-shadow: 0px 1px 2px rgba(60, 64, 67, 0.3), 0px 1px 3px 1px rgba(60, 64, 67, 0.15);\n",
              "      fill: #174EA6;\n",
              "    }\n",
              "\n",
              "    [theme=dark] .colab-df-convert {\n",
              "      background-color: #3B4455;\n",
              "      fill: #D2E3FC;\n",
              "    }\n",
              "\n",
              "    [theme=dark] .colab-df-convert:hover {\n",
              "      background-color: #434B5C;\n",
              "      box-shadow: 0px 1px 3px 1px rgba(0, 0, 0, 0.15);\n",
              "      filter: drop-shadow(0px 1px 2px rgba(0, 0, 0, 0.3));\n",
              "      fill: #FFFFFF;\n",
              "    }\n",
              "  </style>\n",
              "\n",
              "      <script>\n",
              "        const buttonEl =\n",
              "          document.querySelector('#df-7efcd93d-3e30-4a1f-8d06-2492af14b96e button.colab-df-convert');\n",
              "        buttonEl.style.display =\n",
              "          google.colab.kernel.accessAllowed ? 'block' : 'none';\n",
              "\n",
              "        async function convertToInteractive(key) {\n",
              "          const element = document.querySelector('#df-7efcd93d-3e30-4a1f-8d06-2492af14b96e');\n",
              "          const dataTable =\n",
              "            await google.colab.kernel.invokeFunction('convertToInteractive',\n",
              "                                                     [key], {});\n",
              "          if (!dataTable) return;\n",
              "\n",
              "          const docLinkHtml = 'Like what you see? Visit the ' +\n",
              "            '<a target=\"_blank\" href=https://colab.research.google.com/notebooks/data_table.ipynb>data table notebook</a>'\n",
              "            + ' to learn more about interactive tables.';\n",
              "          element.innerHTML = '';\n",
              "          dataTable['output_type'] = 'display_data';\n",
              "          await google.colab.output.renderOutput(dataTable, element);\n",
              "          const docLink = document.createElement('div');\n",
              "          docLink.innerHTML = docLinkHtml;\n",
              "          element.appendChild(docLink);\n",
              "        }\n",
              "      </script>\n",
              "    </div>\n",
              "  </div>\n",
              "  "
            ]
          },
          "metadata": {},
          "execution_count": 42
        }
      ]
    },
    {
      "cell_type": "code",
      "source": [
        "from nltk.stem import PorterStemmer\n",
        "from nltk.tokenize import word_tokenize\n",
        "  \n",
        "ps = PorterStemmer()\n",
        "  \n",
        "for w in data['ProcessedText'][2]:\n",
        "    print(w, \"\", ps.stem(w))"
      ],
      "metadata": {
        "colab": {
          "base_uri": "https://localhost:8080/"
        },
        "id": "1EaGbB-JhIyh",
        "outputId": "130bea88-3c55-4163-ba28-b272f6a56f32"
      },
      "execution_count": null,
      "outputs": [
        {
          "output_type": "stream",
          "name": "stdout",
          "text": [
            "s  s\n",
            "u  u\n",
            "b  b\n",
            "m  m\n",
            "u  u\n",
            "c  c\n",
            "    \n",
            "t  t\n",
            "r  r\n",
            "o  o\n",
            "t  t\n",
            "t  t\n",
            "e  e\n",
            "l  l\n",
            "e  e\n",
            "i  i\n",
            "    \n",
            "i  i\n",
            "s  s\n",
            "t  t\n",
            "    \n",
            "d  d\n",
            "o  o\n",
            "c  c\n",
            "h  h\n",
            "    \n",
            "e  e\n",
            "g  g\n",
            "a  a\n",
            "l  l\n",
            "    \n",
            "o  o\n",
            "b  b\n",
            "    \n",
            "m  m\n",
            "i  i\n",
            "t  t\n",
            "    \n",
            "o  o\n",
            "d  d\n",
            "e  e\n",
            "r  r\n",
            "    \n",
            "t  t\n",
            "a  a\n",
            "t  t\n",
            "s  s\n",
            "a  a\n",
            "c  c\n",
            "h  h\n",
            "e  e\n",
            "    \n",
            "i  i\n",
            "s  s\n",
            "t  t\n",
            "    \n",
            "o  o\n",
            "h  h\n",
            "n  n\n",
            "e  e\n",
            "    \n",
            "c  c\n",
            "o  o\n",
            "v  v\n",
            "i  i\n",
            "d  d\n",
            "    \n",
            "w  w\n",
            "r  r\n",
            "e  e\n",
            "n  n\n",
            "    \n",
            "d  d\n",
            "i  i\n",
            "e  e\n",
            "s  s\n",
            "e  e\n",
            "    \n",
            "m  m\n",
            "e  e\n",
            "n  n\n",
            "s  s\n",
            "c  c\n",
            "h  h\n",
            "e  e\n",
            "n  n\n",
            "    \n",
            "n  n\n",
            "o  o\n",
            "c  c\n",
            "h  h\n",
            "    \n",
            "l  l\n",
            "e  e\n",
            "b  b\n",
            "e  e\n",
            "n  n\n"
          ]
        }
      ]
    },
    {
      "cell_type": "code",
      "source": [
        "data[1:3]"
      ],
      "metadata": {
        "colab": {
          "base_uri": "https://localhost:8080/",
          "height": 112
        },
        "id": "eDHIqjEhhQUt",
        "outputId": "f526761a-91b9-41e1-85a9-c0f3fd7cb3ba"
      },
      "execution_count": null,
      "outputs": [
        {
          "output_type": "execute_result",
          "data": {
            "text/plain": [
              "         User                                              Tweet  \\\n",
              "1  DS56484494  @Sky__SSBU @Chamchamat Efficacy Against COVID-...   \n",
              "2    rya_haas  @submuc1 @trottelei @Markus_Soeder Ist doch eg...   \n",
              "\n",
              "                                       ProcessedText  \n",
              "1  chamchamat efficacy against covid for particip...  \n",
              "2  submuc trottelei ist doch egal ob mit oder tat...  "
            ],
            "text/html": [
              "\n",
              "  <div id=\"df-c500fb64-a7ba-4cb0-b8cf-0b30e668b9ee\">\n",
              "    <div class=\"colab-df-container\">\n",
              "      <div>\n",
              "<style scoped>\n",
              "    .dataframe tbody tr th:only-of-type {\n",
              "        vertical-align: middle;\n",
              "    }\n",
              "\n",
              "    .dataframe tbody tr th {\n",
              "        vertical-align: top;\n",
              "    }\n",
              "\n",
              "    .dataframe thead th {\n",
              "        text-align: right;\n",
              "    }\n",
              "</style>\n",
              "<table border=\"1\" class=\"dataframe\">\n",
              "  <thead>\n",
              "    <tr style=\"text-align: right;\">\n",
              "      <th></th>\n",
              "      <th>User</th>\n",
              "      <th>Tweet</th>\n",
              "      <th>ProcessedText</th>\n",
              "    </tr>\n",
              "  </thead>\n",
              "  <tbody>\n",
              "    <tr>\n",
              "      <th>1</th>\n",
              "      <td>DS56484494</td>\n",
              "      <td>@Sky__SSBU @Chamchamat Efficacy Against COVID-...</td>\n",
              "      <td>chamchamat efficacy against covid for particip...</td>\n",
              "    </tr>\n",
              "    <tr>\n",
              "      <th>2</th>\n",
              "      <td>rya_haas</td>\n",
              "      <td>@submuc1 @trottelei @Markus_Soeder Ist doch eg...</td>\n",
              "      <td>submuc trottelei ist doch egal ob mit oder tat...</td>\n",
              "    </tr>\n",
              "  </tbody>\n",
              "</table>\n",
              "</div>\n",
              "      <button class=\"colab-df-convert\" onclick=\"convertToInteractive('df-c500fb64-a7ba-4cb0-b8cf-0b30e668b9ee')\"\n",
              "              title=\"Convert this dataframe to an interactive table.\"\n",
              "              style=\"display:none;\">\n",
              "        \n",
              "  <svg xmlns=\"http://www.w3.org/2000/svg\" height=\"24px\"viewBox=\"0 0 24 24\"\n",
              "       width=\"24px\">\n",
              "    <path d=\"M0 0h24v24H0V0z\" fill=\"none\"/>\n",
              "    <path d=\"M18.56 5.44l.94 2.06.94-2.06 2.06-.94-2.06-.94-.94-2.06-.94 2.06-2.06.94zm-11 1L8.5 8.5l.94-2.06 2.06-.94-2.06-.94L8.5 2.5l-.94 2.06-2.06.94zm10 10l.94 2.06.94-2.06 2.06-.94-2.06-.94-.94-2.06-.94 2.06-2.06.94z\"/><path d=\"M17.41 7.96l-1.37-1.37c-.4-.4-.92-.59-1.43-.59-.52 0-1.04.2-1.43.59L10.3 9.45l-7.72 7.72c-.78.78-.78 2.05 0 2.83L4 21.41c.39.39.9.59 1.41.59.51 0 1.02-.2 1.41-.59l7.78-7.78 2.81-2.81c.8-.78.8-2.07 0-2.86zM5.41 20L4 18.59l7.72-7.72 1.47 1.35L5.41 20z\"/>\n",
              "  </svg>\n",
              "      </button>\n",
              "      \n",
              "  <style>\n",
              "    .colab-df-container {\n",
              "      display:flex;\n",
              "      flex-wrap:wrap;\n",
              "      gap: 12px;\n",
              "    }\n",
              "\n",
              "    .colab-df-convert {\n",
              "      background-color: #E8F0FE;\n",
              "      border: none;\n",
              "      border-radius: 50%;\n",
              "      cursor: pointer;\n",
              "      display: none;\n",
              "      fill: #1967D2;\n",
              "      height: 32px;\n",
              "      padding: 0 0 0 0;\n",
              "      width: 32px;\n",
              "    }\n",
              "\n",
              "    .colab-df-convert:hover {\n",
              "      background-color: #E2EBFA;\n",
              "      box-shadow: 0px 1px 2px rgba(60, 64, 67, 0.3), 0px 1px 3px 1px rgba(60, 64, 67, 0.15);\n",
              "      fill: #174EA6;\n",
              "    }\n",
              "\n",
              "    [theme=dark] .colab-df-convert {\n",
              "      background-color: #3B4455;\n",
              "      fill: #D2E3FC;\n",
              "    }\n",
              "\n",
              "    [theme=dark] .colab-df-convert:hover {\n",
              "      background-color: #434B5C;\n",
              "      box-shadow: 0px 1px 3px 1px rgba(0, 0, 0, 0.15);\n",
              "      filter: drop-shadow(0px 1px 2px rgba(0, 0, 0, 0.3));\n",
              "      fill: #FFFFFF;\n",
              "    }\n",
              "  </style>\n",
              "\n",
              "      <script>\n",
              "        const buttonEl =\n",
              "          document.querySelector('#df-c500fb64-a7ba-4cb0-b8cf-0b30e668b9ee button.colab-df-convert');\n",
              "        buttonEl.style.display =\n",
              "          google.colab.kernel.accessAllowed ? 'block' : 'none';\n",
              "\n",
              "        async function convertToInteractive(key) {\n",
              "          const element = document.querySelector('#df-c500fb64-a7ba-4cb0-b8cf-0b30e668b9ee');\n",
              "          const dataTable =\n",
              "            await google.colab.kernel.invokeFunction('convertToInteractive',\n",
              "                                                     [key], {});\n",
              "          if (!dataTable) return;\n",
              "\n",
              "          const docLinkHtml = 'Like what you see? Visit the ' +\n",
              "            '<a target=\"_blank\" href=https://colab.research.google.com/notebooks/data_table.ipynb>data table notebook</a>'\n",
              "            + ' to learn more about interactive tables.';\n",
              "          element.innerHTML = '';\n",
              "          dataTable['output_type'] = 'display_data';\n",
              "          await google.colab.output.renderOutput(dataTable, element);\n",
              "          const docLink = document.createElement('div');\n",
              "          docLink.innerHTML = docLinkHtml;\n",
              "          element.appendChild(docLink);\n",
              "        }\n",
              "      </script>\n",
              "    </div>\n",
              "  </div>\n",
              "  "
            ]
          },
          "metadata": {},
          "execution_count": 45
        }
      ]
    },
    {
      "cell_type": "code",
      "source": [
        "data['ProcessedText'][1]"
      ],
      "metadata": {
        "colab": {
          "base_uri": "https://localhost:8080/",
          "height": 36
        },
        "id": "gNzKf5rThT26",
        "outputId": "6bef299f-6b71-4c36-9c08-f9e6db4b4ca4"
      },
      "execution_count": null,
      "outputs": [
        {
          "output_type": "execute_result",
          "data": {
            "text/plain": [
              "'chamchamat efficacy against covid for participant without evidence sars cov infection prior day dose vaccine efficacy confirmed covid occurring least day dose wa credible interval'"
            ],
            "application/vnd.google.colaboratory.intrinsic+json": {
              "type": "string"
            }
          },
          "metadata": {},
          "execution_count": 46
        }
      ]
    },
    {
      "cell_type": "code",
      "source": [
        "from nltk import sent_tokenize, word_tokenize\n",
        "\n",
        "def tokenization_s(data): # same can be achieved for words tokens\n",
        "    s_new = []\n",
        "    for sent in (data['ProcessedText'][2]): #For NumpY = sentences[:]\n",
        "        s_token = sent_tokenize(sent)\n",
        "        if s_token != '':\n",
        "            s_new.append(s_token)\n",
        "    return s_new\n",
        "\n",
        "print(tokenization_s(data))"
      ],
      "metadata": {
        "colab": {
          "base_uri": "https://localhost:8080/"
        },
        "id": "-gtYX2DKhdHA",
        "outputId": "e8e6918d-d14f-47d4-a027-edbd66872c55"
      },
      "execution_count": null,
      "outputs": [
        {
          "output_type": "stream",
          "name": "stdout",
          "text": [
            "[['s'], ['u'], ['b'], ['m'], ['u'], ['c'], [], ['t'], ['r'], ['o'], ['t'], ['t'], ['e'], ['l'], ['e'], ['i'], [], ['i'], ['s'], ['t'], [], ['d'], ['o'], ['c'], ['h'], [], ['e'], ['g'], ['a'], ['l'], [], ['o'], ['b'], [], ['m'], ['i'], ['t'], [], ['o'], ['d'], ['e'], ['r'], [], ['t'], ['a'], ['t'], ['s'], ['a'], ['c'], ['h'], ['e'], [], ['i'], ['s'], ['t'], [], ['o'], ['h'], ['n'], ['e'], [], ['c'], ['o'], ['v'], ['i'], ['d'], [], ['w'], ['r'], ['e'], ['n'], [], ['d'], ['i'], ['e'], ['s'], ['e'], [], ['m'], ['e'], ['n'], ['s'], ['c'], ['h'], ['e'], ['n'], [], ['n'], ['o'], ['c'], ['h'], [], ['l'], ['e'], ['b'], ['e'], ['n']]\n"
          ]
        }
      ]
    },
    {
      "cell_type": "code",
      "source": [
        "from nltk import sent_tokenize, word_tokenize"
      ],
      "metadata": {
        "id": "BkvnFfxehg-M"
      },
      "execution_count": null,
      "outputs": []
    },
    {
      "cell_type": "code",
      "source": [
        "first_sentence = data['ProcessedText'][1]\n",
        "second_sentence = data['ProcessedText'][2]\n",
        "#split so each word have their own string\n",
        "first_sentence = first_sentence.split(\" \")\n",
        "second_sentence = second_sentence.split(\" \")#join them to remove common duplicate words\n",
        "total= set(first_sentence).union(set(second_sentence))\n",
        "print(total)"
      ],
      "metadata": {
        "colab": {
          "base_uri": "https://localhost:8080/"
        },
        "id": "QtX5exVmhjEr",
        "outputId": "cd5782a4-f034-4285-bfbb-87fba0639277"
      },
      "execution_count": null,
      "outputs": [
        {
          "output_type": "stream",
          "name": "stdout",
          "text": [
            "{'cov', 'prior', 'credible', 'vaccine', 'without', 'ob', 'egal', 'wren', 'for', 'dose', 'trottelei', 'oder', 'tatsache', 'ist', 'confirmed', 'leben', 'evidence', 'against', 'chamchamat', 'efficacy', 'interval', 'wa', 'sars', 'ohne', 'noch', 'covid', 'submuc', 'doch', 'occurring', 'day', 'diese', 'least', 'participant', 'infection', 'mit', 'menschen'}\n"
          ]
        }
      ]
    },
    {
      "cell_type": "code",
      "source": [
        "wordDictA = dict.fromkeys(total, 0) \n",
        "wordDictB = dict.fromkeys(total, 0)\n",
        "for word in first_sentence:\n",
        "    wordDictA[word]+=1\n",
        "    \n",
        "for word in second_sentence:\n",
        "    wordDictB[word]+=1"
      ],
      "metadata": {
        "id": "k4xDwQzNhrgU"
      },
      "execution_count": null,
      "outputs": []
    },
    {
      "cell_type": "code",
      "source": [
        "def computeTF(wordDict, doc):\n",
        "    tfDict = {}\n",
        "    corpusCount = len(doc)\n",
        "    for word, count in wordDict.items():\n",
        "        tfDict[word] = count/float(corpusCount)\n",
        "    return(tfDict)\n",
        "#running our sentences through the tf function:\n",
        "tfFirst = computeTF(wordDictA, first_sentence)\n",
        "tfSecond = computeTF(wordDictB, second_sentence)\n",
        "#Converting to dataframe for visualization\n",
        "tf = pd.DataFrame([tfFirst, tfSecond])"
      ],
      "metadata": {
        "id": "4gb_1nJThsgU"
      },
      "execution_count": null,
      "outputs": []
    },
    {
      "cell_type": "code",
      "source": [
        "print(tf)"
      ],
      "metadata": {
        "colab": {
          "base_uri": "https://localhost:8080/"
        },
        "id": "RLFpgFaPhwT9",
        "outputId": "f878fc13-1c06-45ea-92aa-f4ed44cdbc82"
      },
      "execution_count": null,
      "outputs": [
        {
          "output_type": "stream",
          "name": "stdout",
          "text": [
            "    cov  prior  credible  vaccine  without        ob      egal      wren  \\\n",
            "0  0.04   0.04      0.04     0.04     0.04  0.000000  0.000000  0.000000   \n",
            "1  0.00   0.00      0.00     0.00     0.00  0.058824  0.058824  0.058824   \n",
            "\n",
            "    for  dose  ...    submuc      doch  occurring   day     diese  least  \\\n",
            "0  0.04  0.08  ...  0.000000  0.000000       0.04  0.08  0.000000   0.04   \n",
            "1  0.00  0.00  ...  0.058824  0.058824       0.00  0.00  0.058824   0.00   \n",
            "\n",
            "   participant  infection       mit  menschen  \n",
            "0         0.04       0.04  0.000000  0.000000  \n",
            "1         0.00       0.00  0.058824  0.058824  \n",
            "\n",
            "[2 rows x 36 columns]\n"
          ]
        }
      ]
    },
    {
      "cell_type": "code",
      "source": [
        "import math"
      ],
      "metadata": {
        "id": "FTj_KkRuhyb7"
      },
      "execution_count": null,
      "outputs": []
    },
    {
      "cell_type": "markdown",
      "source": [
        "IDF"
      ],
      "metadata": {
        "id": "89kT7Nwsh0ib"
      }
    },
    {
      "cell_type": "code",
      "source": [
        "def computeIDF(docList):\n",
        "    idfDict = {}\n",
        "    N = len(docList)\n",
        "    \n",
        "    idfDict = dict.fromkeys(docList[0].keys(), 0)\n",
        "    print(idfDict)\n",
        "    for word, val in idfDict.items():\n",
        "        print(word,val)\n",
        "        idfDict[word] = math.log10(N / (float(val) + 1))\n",
        "        \n",
        "    return(idfDict)\n",
        "#inputing our sentences in the log file\n",
        "idfs = computeIDF([wordDictA, wordDictB])\n",
        "print(idfs)"
      ],
      "metadata": {
        "colab": {
          "base_uri": "https://localhost:8080/"
        },
        "id": "BjHJKhIYh3Jx",
        "outputId": "ba91d878-abfb-4cd8-d483-85b12452d76a"
      },
      "execution_count": null,
      "outputs": [
        {
          "output_type": "stream",
          "name": "stdout",
          "text": [
            "{'cov': 0, 'prior': 0, 'credible': 0, 'vaccine': 0, 'without': 0, 'ob': 0, 'egal': 0, 'wren': 0, 'for': 0, 'dose': 0, 'trottelei': 0, 'oder': 0, 'tatsache': 0, 'ist': 0, 'confirmed': 0, 'leben': 0, 'evidence': 0, 'against': 0, 'chamchamat': 0, 'efficacy': 0, 'interval': 0, 'wa': 0, 'sars': 0, 'ohne': 0, 'noch': 0, 'covid': 0, 'submuc': 0, 'doch': 0, 'occurring': 0, 'day': 0, 'diese': 0, 'least': 0, 'participant': 0, 'infection': 0, 'mit': 0, 'menschen': 0}\n",
            "cov 0\n",
            "prior 0\n",
            "credible 0\n",
            "vaccine 0\n",
            "without 0\n",
            "ob 0\n",
            "egal 0\n",
            "wren 0\n",
            "for 0\n",
            "dose 0\n",
            "trottelei 0\n",
            "oder 0\n",
            "tatsache 0\n",
            "ist 0\n",
            "confirmed 0\n",
            "leben 0\n",
            "evidence 0\n",
            "against 0\n",
            "chamchamat 0\n",
            "efficacy 0\n",
            "interval 0\n",
            "wa 0\n",
            "sars 0\n",
            "ohne 0\n",
            "noch 0\n",
            "covid 0\n",
            "submuc 0\n",
            "doch 0\n",
            "occurring 0\n",
            "day 0\n",
            "diese 0\n",
            "least 0\n",
            "participant 0\n",
            "infection 0\n",
            "mit 0\n",
            "menschen 0\n",
            "{'cov': 0.3010299956639812, 'prior': 0.3010299956639812, 'credible': 0.3010299956639812, 'vaccine': 0.3010299956639812, 'without': 0.3010299956639812, 'ob': 0.3010299956639812, 'egal': 0.3010299956639812, 'wren': 0.3010299956639812, 'for': 0.3010299956639812, 'dose': 0.3010299956639812, 'trottelei': 0.3010299956639812, 'oder': 0.3010299956639812, 'tatsache': 0.3010299956639812, 'ist': 0.3010299956639812, 'confirmed': 0.3010299956639812, 'leben': 0.3010299956639812, 'evidence': 0.3010299956639812, 'against': 0.3010299956639812, 'chamchamat': 0.3010299956639812, 'efficacy': 0.3010299956639812, 'interval': 0.3010299956639812, 'wa': 0.3010299956639812, 'sars': 0.3010299956639812, 'ohne': 0.3010299956639812, 'noch': 0.3010299956639812, 'covid': 0.3010299956639812, 'submuc': 0.3010299956639812, 'doch': 0.3010299956639812, 'occurring': 0.3010299956639812, 'day': 0.3010299956639812, 'diese': 0.3010299956639812, 'least': 0.3010299956639812, 'participant': 0.3010299956639812, 'infection': 0.3010299956639812, 'mit': 0.3010299956639812, 'menschen': 0.3010299956639812}\n"
          ]
        }
      ]
    },
    {
      "cell_type": "code",
      "source": [
        "tfidf=(tf/idfs)\n",
        "print(tfidf)"
      ],
      "metadata": {
        "colab": {
          "base_uri": "https://localhost:8080/"
        },
        "id": "hsnOOPnsh8Mp",
        "outputId": "a8ffbc41-f126-4a55-b9c6-5af6ae93dca8"
      },
      "execution_count": null,
      "outputs": [
        {
          "output_type": "stream",
          "name": "stdout",
          "text": [
            "        cov     prior  credible   vaccine   without        ob      egal  \\\n",
            "0  0.132877  0.132877  0.132877  0.132877  0.132877  0.000000  0.000000   \n",
            "1  0.000000  0.000000  0.000000  0.000000  0.000000  0.195408  0.195408   \n",
            "\n",
            "       wren       for      dose  ...    submuc      doch  occurring       day  \\\n",
            "0  0.000000  0.132877  0.265754  ...  0.000000  0.000000   0.132877  0.265754   \n",
            "1  0.195408  0.000000  0.000000  ...  0.195408  0.195408   0.000000  0.000000   \n",
            "\n",
            "      diese     least  participant  infection       mit  menschen  \n",
            "0  0.000000  0.132877     0.132877   0.132877  0.000000  0.000000  \n",
            "1  0.195408  0.000000     0.000000   0.000000  0.195408  0.195408  \n",
            "\n",
            "[2 rows x 36 columns]\n"
          ]
        }
      ]
    },
    {
      "cell_type": "code",
      "source": [
        "tfidfs=(tf*idfs)\n",
        "print(tfidfs)"
      ],
      "metadata": {
        "colab": {
          "base_uri": "https://localhost:8080/"
        },
        "id": "FOJxM7_oiCCP",
        "outputId": "74741a69-339b-4c0c-b5b8-955a9c7012e6"
      },
      "execution_count": null,
      "outputs": [
        {
          "output_type": "stream",
          "name": "stdout",
          "text": [
            "        cov     prior  credible   vaccine   without        ob      egal  \\\n",
            "0  0.012041  0.012041  0.012041  0.012041  0.012041  0.000000  0.000000   \n",
            "1  0.000000  0.000000  0.000000  0.000000  0.000000  0.017708  0.017708   \n",
            "\n",
            "       wren       for      dose  ...    submuc      doch  occurring       day  \\\n",
            "0  0.000000  0.012041  0.024082  ...  0.000000  0.000000   0.012041  0.024082   \n",
            "1  0.017708  0.000000  0.000000  ...  0.017708  0.017708   0.000000  0.000000   \n",
            "\n",
            "      diese     least  participant  infection       mit  menschen  \n",
            "0  0.000000  0.012041     0.012041   0.012041  0.000000  0.000000  \n",
            "1  0.017708  0.000000     0.000000   0.000000  0.017708  0.017708  \n",
            "\n",
            "[2 rows x 36 columns]\n"
          ]
        }
      ]
    },
    {
      "cell_type": "markdown",
      "source": [
        "wordcloud"
      ],
      "metadata": {
        "id": "j7mn1KQ9iGZO"
      }
    },
    {
      "cell_type": "code",
      "source": [
        "from wordcloud import WordCloud, STOPWORDS\n",
        "import matplotlib.pyplot as plt\n",
        "import pandas as pd"
      ],
      "metadata": {
        "id": "vOx4LlvsiDg5"
      },
      "execution_count": null,
      "outputs": []
    },
    {
      "cell_type": "code",
      "source": [
        "from wordcloud import WordCloud\n",
        "import matplotlib.pyplot as plt\n",
        "df_list = []\n",
        "for i in range(len(data)):\n",
        "    df_list +=data['Tweet'][i]\n",
        "\n",
        "wordcloud = WordCloud(width = 1000, height = 700,\n",
        "                background_color ='white',\n",
        "                min_font_size = 10).generate(data['ProcessedText'][1])\n",
        "# plot the WordCloud image                      \n",
        "plt.figure(figsize = (18, 8), facecolor = None)\n",
        "plt.imshow(wordcloud,interpolation=\"bilinear\")\n",
        "plt.axis(\"off\")\n",
        "plt.tight_layout(pad = 0)\n",
        "plt.show()"
      ],
      "metadata": {
        "colab": {
          "base_uri": "https://localhost:8080/",
          "height": 607
        },
        "id": "mxKiliQdiIld",
        "outputId": "f309dacc-4ed9-4bbf-d590-f6aea38b3a05"
      },
      "execution_count": null,
      "outputs": [
        {
          "output_type": "display_data",
          "data": {
            "text/plain": [
              "<Figure size 1296x576 with 1 Axes>"
            ],
            "image/png": "[encoded data removed]"
          },
          "metadata": {
            "needs_background": "light"
          }
        }
      ]
    }
  ]
}